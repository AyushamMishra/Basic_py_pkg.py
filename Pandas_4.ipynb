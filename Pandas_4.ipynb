{
 "cells": [
  {
   "cell_type": "markdown",
   "id": "33a37918",
   "metadata": {},
   "source": [
    "## Groupng and aggeregation of Data"
   ]
  },
  {
   "cell_type": "code",
   "execution_count": 2,
   "id": "de1eb38b",
   "metadata": {},
   "outputs": [
    {
     "name": "stdout",
     "output_type": "stream",
     "text": [
      "   OrderID Customer     Product  Quantity  Price  Total\n",
      "0      101    Alice     Shampoo         2    120    240\n",
      "1      102      Bob        Soap         5     40    200\n",
      "2      103  Charlie  Toothpaste         3     90    270\n",
      "3      104    Diana        Rice         1    500    500\n",
      "4      105    Ethan       Sugar         2     60    120\n",
      "5      106    Fiona         Oil         4    150    600\n",
      "6      107   George    Biscuits         6     30    180\n",
      "7      108   Hannah         Tea         2    200    400\n",
      "8      109      Ian        Milk         3     50    150\n",
      "9      110    Julia       Bread         5     25    125\n"
     ]
    }
   ],
   "source": [
    "import pandas as pd\n",
    "shop_data = {\n",
    "    \"OrderID\": [101, 102, 103, 104, 105, 106, 107, 108, 109, 110],\n",
    "    \"Customer\": [\"Alice\", \"Bob\", \"Charlie\", \"Diana\", \"Ethan\",\n",
    "                 \"Fiona\", \"George\", \"Hannah\", \"Ian\", \"Julia\"],\n",
    "    \"Product\": [\"Shampoo\", \"Soap\", \"Toothpaste\", \"Rice\", \"Sugar\",\n",
    "                \"Oil\", \"Biscuits\", \"Tea\", \"Milk\", \"Bread\"],\n",
    "    \"Quantity\": [2, 5, 3, 1, 2, 4, 6, 2, 3, 5],\n",
    "    \"Price\": [120, 40, 90, 500, 60, 150, 30, 200, 50, 25],\n",
    "    \"Total\": [240, 200, 270, 500, 120, 600, 180, 400, 150, 125]\n",
    "}\n",
    "\n",
    "# Convert to DataFrame\n",
    "df= pd.DataFrame(shop_data)\n",
    "\n",
    "print(df)\n"
   ]
  },
  {
   "cell_type": "code",
   "execution_count": 3,
   "id": "2df516b7",
   "metadata": {},
   "outputs": [
    {
     "data": {
      "text/html": [
       "<div>\n",
       "<style scoped>\n",
       "    .dataframe tbody tr th:only-of-type {\n",
       "        vertical-align: middle;\n",
       "    }\n",
       "\n",
       "    .dataframe tbody tr th {\n",
       "        vertical-align: top;\n",
       "    }\n",
       "\n",
       "    .dataframe thead th {\n",
       "        text-align: right;\n",
       "    }\n",
       "</style>\n",
       "<table border=\"1\" class=\"dataframe\">\n",
       "  <thead>\n",
       "    <tr style=\"text-align: right;\">\n",
       "      <th></th>\n",
       "      <th>OrderID</th>\n",
       "      <th>Quantity</th>\n",
       "      <th>Price</th>\n",
       "      <th>Total</th>\n",
       "    </tr>\n",
       "  </thead>\n",
       "  <tbody>\n",
       "    <tr>\n",
       "      <th>count</th>\n",
       "      <td>10.00000</td>\n",
       "      <td>10.000000</td>\n",
       "      <td>10.000000</td>\n",
       "      <td>10.00000</td>\n",
       "    </tr>\n",
       "    <tr>\n",
       "      <th>mean</th>\n",
       "      <td>105.50000</td>\n",
       "      <td>3.300000</td>\n",
       "      <td>126.500000</td>\n",
       "      <td>278.50000</td>\n",
       "    </tr>\n",
       "    <tr>\n",
       "      <th>std</th>\n",
       "      <td>3.02765</td>\n",
       "      <td>1.636392</td>\n",
       "      <td>143.062729</td>\n",
       "      <td>166.60082</td>\n",
       "    </tr>\n",
       "    <tr>\n",
       "      <th>min</th>\n",
       "      <td>101.00000</td>\n",
       "      <td>1.000000</td>\n",
       "      <td>25.000000</td>\n",
       "      <td>120.00000</td>\n",
       "    </tr>\n",
       "    <tr>\n",
       "      <th>25%</th>\n",
       "      <td>103.25000</td>\n",
       "      <td>2.000000</td>\n",
       "      <td>42.500000</td>\n",
       "      <td>157.50000</td>\n",
       "    </tr>\n",
       "    <tr>\n",
       "      <th>50%</th>\n",
       "      <td>105.50000</td>\n",
       "      <td>3.000000</td>\n",
       "      <td>75.000000</td>\n",
       "      <td>220.00000</td>\n",
       "    </tr>\n",
       "    <tr>\n",
       "      <th>75%</th>\n",
       "      <td>107.75000</td>\n",
       "      <td>4.750000</td>\n",
       "      <td>142.500000</td>\n",
       "      <td>367.50000</td>\n",
       "    </tr>\n",
       "    <tr>\n",
       "      <th>max</th>\n",
       "      <td>110.00000</td>\n",
       "      <td>6.000000</td>\n",
       "      <td>500.000000</td>\n",
       "      <td>600.00000</td>\n",
       "    </tr>\n",
       "  </tbody>\n",
       "</table>\n",
       "</div>"
      ],
      "text/plain": [
       "         OrderID   Quantity       Price      Total\n",
       "count   10.00000  10.000000   10.000000   10.00000\n",
       "mean   105.50000   3.300000  126.500000  278.50000\n",
       "std      3.02765   1.636392  143.062729  166.60082\n",
       "min    101.00000   1.000000   25.000000  120.00000\n",
       "25%    103.25000   2.000000   42.500000  157.50000\n",
       "50%    105.50000   3.000000   75.000000  220.00000\n",
       "75%    107.75000   4.750000  142.500000  367.50000\n",
       "max    110.00000   6.000000  500.000000  600.00000"
      ]
     },
     "execution_count": 3,
     "metadata": {},
     "output_type": "execute_result"
    }
   ],
   "source": [
    "df.describe()"
   ]
  },
  {
   "cell_type": "code",
   "execution_count": null,
   "id": "09a4e816",
   "metadata": {},
   "outputs": [],
   "source": [
    "grouped=df.groupby()"
   ]
  }
 ],
 "metadata": {
  "kernelspec": {
   "display_name": "Python 3",
   "language": "python",
   "name": "python3"
  },
  "language_info": {
   "codemirror_mode": {
    "name": "ipython",
    "version": 3
   },
   "file_extension": ".py",
   "mimetype": "text/x-python",
   "name": "python",
   "nbconvert_exporter": "python",
   "pygments_lexer": "ipython3",
   "version": "3.13.7"
  }
 },
 "nbformat": 4,
 "nbformat_minor": 5
}

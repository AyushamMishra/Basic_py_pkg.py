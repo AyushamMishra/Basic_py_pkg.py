{
 "cells": [
  {
   "cell_type": "markdown",
   "id": "33a37918",
   "metadata": {},
   "source": [
    "## Groupng and aggeregation of Data"
   ]
  },
  {
   "cell_type": "code",
   "execution_count": 2,
   "id": "de1eb38b",
   "metadata": {},
   "outputs": [
    {
     "name": "stdout",
     "output_type": "stream",
     "text": [
      "   OrderID Customer     Product  Quantity  Price  Total\n",
      "0      101    Alice     Shampoo         2    120    240\n",
      "1      102      Bob        Soap         5     40    200\n",
      "2      103  Charlie  Toothpaste         3     90    270\n",
      "3      104    Diana        Rice         1    500    500\n",
      "4      105    Ethan       Sugar         2     60    120\n",
      "5      106    Fiona         Oil         4    150    600\n",
      "6      107   George    Biscuits         6     30    180\n",
      "7      108   Hannah         Tea         2    200    400\n",
      "8      109      Ian        Milk         3     50    150\n",
      "9      110    Julia       Bread         5     25    125\n"
     ]
    }
   ],
   "source": [
    "import pandas as pd\n",
    "shop_data = {\n",
    "    \"OrderID\": [101, 102, 103, 104, 105, 106, 107, 108, 109, 110],\n",
    "    \"Customer\": [\"Alice\", \"Bob\", \"Charlie\", \"Diana\", \"Ethan\",\n",
    "                 \"Fiona\", \"George\", \"Hannah\", \"Ian\", \"Julia\"],\n",
    "    \"Product\": [\"Shampoo\", \"Soap\", \"Toothpaste\", \"Rice\", \"Sugar\",\n",
    "                \"Oil\", \"Biscuits\", \"Tea\", \"Milk\", \"Bread\"],\n",
    "    \"Quantity\": [2, 5, 3, 1, 2, 4, 6, 2, 3, 5],\n",
    "    \"Price\": [120, 40, 90, 500, 60, 150, 30, 200, 50, 25],\n",
    "    \"Total\": [240, 200, 270, 500, 120, 600, 180, 400, 150, 125]\n",
    "}\n",
    "\n",
    "# Convert to DataFrame\n",
    "df= pd.DataFrame(shop_data)\n",
    "\n",
    "print(df)\n"
   ]
  },
  {
   "cell_type": "code",
   "execution_count": 3,
   "id": "2df516b7",
   "metadata": {},
   "outputs": [
    {
     "data": {
      "text/html": [
       "<div>\n",
       "<style scoped>\n",
       "    .dataframe tbody tr th:only-of-type {\n",
       "        vertical-align: middle;\n",
       "    }\n",
       "\n",
       "    .dataframe tbody tr th {\n",
       "        vertical-align: top;\n",
       "    }\n",
       "\n",
       "    .dataframe thead th {\n",
       "        text-align: right;\n",
       "    }\n",
       "</style>\n",
       "<table border=\"1\" class=\"dataframe\">\n",
       "  <thead>\n",
       "    <tr style=\"text-align: right;\">\n",
       "      <th></th>\n",
       "      <th>OrderID</th>\n",
       "      <th>Quantity</th>\n",
       "      <th>Price</th>\n",
       "      <th>Total</th>\n",
       "    </tr>\n",
       "  </thead>\n",
       "  <tbody>\n",
       "    <tr>\n",
       "      <th>count</th>\n",
       "      <td>10.00000</td>\n",
       "      <td>10.000000</td>\n",
       "      <td>10.000000</td>\n",
       "      <td>10.00000</td>\n",
       "    </tr>\n",
       "    <tr>\n",
       "      <th>mean</th>\n",
       "      <td>105.50000</td>\n",
       "      <td>3.300000</td>\n",
       "      <td>126.500000</td>\n",
       "      <td>278.50000</td>\n",
       "    </tr>\n",
       "    <tr>\n",
       "      <th>std</th>\n",
       "      <td>3.02765</td>\n",
       "      <td>1.636392</td>\n",
       "      <td>143.062729</td>\n",
       "      <td>166.60082</td>\n",
       "    </tr>\n",
       "    <tr>\n",
       "      <th>min</th>\n",
       "      <td>101.00000</td>\n",
       "      <td>1.000000</td>\n",
       "      <td>25.000000</td>\n",
       "      <td>120.00000</td>\n",
       "    </tr>\n",
       "    <tr>\n",
       "      <th>25%</th>\n",
       "      <td>103.25000</td>\n",
       "      <td>2.000000</td>\n",
       "      <td>42.500000</td>\n",
       "      <td>157.50000</td>\n",
       "    </tr>\n",
       "    <tr>\n",
       "      <th>50%</th>\n",
       "      <td>105.50000</td>\n",
       "      <td>3.000000</td>\n",
       "      <td>75.000000</td>\n",
       "      <td>220.00000</td>\n",
       "    </tr>\n",
       "    <tr>\n",
       "      <th>75%</th>\n",
       "      <td>107.75000</td>\n",
       "      <td>4.750000</td>\n",
       "      <td>142.500000</td>\n",
       "      <td>367.50000</td>\n",
       "    </tr>\n",
       "    <tr>\n",
       "      <th>max</th>\n",
       "      <td>110.00000</td>\n",
       "      <td>6.000000</td>\n",
       "      <td>500.000000</td>\n",
       "      <td>600.00000</td>\n",
       "    </tr>\n",
       "  </tbody>\n",
       "</table>\n",
       "</div>"
      ],
      "text/plain": [
       "         OrderID   Quantity       Price      Total\n",
       "count   10.00000  10.000000   10.000000   10.00000\n",
       "mean   105.50000   3.300000  126.500000  278.50000\n",
       "std      3.02765   1.636392  143.062729  166.60082\n",
       "min    101.00000   1.000000   25.000000  120.00000\n",
       "25%    103.25000   2.000000   42.500000  157.50000\n",
       "50%    105.50000   3.000000   75.000000  220.00000\n",
       "75%    107.75000   4.750000  142.500000  367.50000\n",
       "max    110.00000   6.000000  500.000000  600.00000"
      ]
     },
     "execution_count": 3,
     "metadata": {},
     "output_type": "execute_result"
    }
   ],
   "source": [
    "df.describe()"
   ]
  },
  {
   "cell_type": "code",
   "execution_count": 4,
   "id": "09a4e816",
   "metadata": {},
   "outputs": [
    {
     "data": {
      "text/plain": [
       "<pandas.core.groupby.generic.DataFrameGroupBy object at 0x0000018C6FFC4830>"
      ]
     },
     "execution_count": 4,
     "metadata": {},
     "output_type": "execute_result"
    }
   ],
   "source": [
    "grouped=df.groupby('Product')\n",
    "grouped"
   ]
  },
  {
   "cell_type": "code",
   "execution_count": 5,
   "id": "723c204a",
   "metadata": {},
   "outputs": [
    {
     "data": {
      "text/plain": [
       "Product\n",
       "Biscuits      6.0\n",
       "Bread         5.0\n",
       "Milk          3.0\n",
       "Oil           4.0\n",
       "Rice          1.0\n",
       "Shampoo       2.0\n",
       "Soap          5.0\n",
       "Sugar         2.0\n",
       "Tea           2.0\n",
       "Toothpaste    3.0\n",
       "Name: Quantity, dtype: float64"
      ]
     },
     "execution_count": 5,
     "metadata": {},
     "output_type": "execute_result"
    }
   ],
   "source": [
    "grouped['Quantity'].mean()\n"
   ]
  },
  {
   "cell_type": "code",
   "execution_count": 6,
   "id": "ebdf3e7c",
   "metadata": {},
   "outputs": [
    {
     "data": {
      "text/plain": [
       "Product\n",
       "Biscuits      180\n",
       "Bread         125\n",
       "Milk          150\n",
       "Oil           600\n",
       "Rice          500\n",
       "Shampoo       240\n",
       "Soap          200\n",
       "Sugar         120\n",
       "Tea           400\n",
       "Toothpaste    270\n",
       "Name: Total, dtype: int64"
      ]
     },
     "execution_count": 6,
     "metadata": {},
     "output_type": "execute_result"
    }
   ],
   "source": [
    "grouped['Total'].sum()"
   ]
  },
  {
   "cell_type": "code",
   "execution_count": 7,
   "id": "abd1807d",
   "metadata": {},
   "outputs": [
    {
     "data": {
      "text/plain": [
       "Product\n",
       "Biscuits       30\n",
       "Bread          25\n",
       "Milk           50\n",
       "Oil           150\n",
       "Rice          500\n",
       "Shampoo       120\n",
       "Soap           40\n",
       "Sugar          60\n",
       "Tea           200\n",
       "Toothpaste     90\n",
       "Name: Price, dtype: int64"
      ]
     },
     "execution_count": 7,
     "metadata": {},
     "output_type": "execute_result"
    }
   ],
   "source": [
    "grouped['Price'].max()"
   ]
  },
  {
   "cell_type": "code",
   "execution_count": 8,
   "id": "e12cd6db",
   "metadata": {},
   "outputs": [
    {
     "data": {
      "text/plain": [
       "Product\n",
       "Biscuits      180\n",
       "Bread         125\n",
       "Milk          150\n",
       "Oil           600\n",
       "Rice          500\n",
       "Shampoo       240\n",
       "Soap          200\n",
       "Sugar         120\n",
       "Tea           400\n",
       "Toothpaste    270\n",
       "Name: Total, dtype: int64"
      ]
     },
     "execution_count": 8,
     "metadata": {},
     "output_type": "execute_result"
    }
   ],
   "source": [
    "grouped['Total'].max()\n"
   ]
  },
  {
   "cell_type": "code",
   "execution_count": 9,
   "id": "b325c149",
   "metadata": {},
   "outputs": [
    {
     "data": {
      "text/html": [
       "<div>\n",
       "<style scoped>\n",
       "    .dataframe tbody tr th:only-of-type {\n",
       "        vertical-align: middle;\n",
       "    }\n",
       "\n",
       "    .dataframe tbody tr th {\n",
       "        vertical-align: top;\n",
       "    }\n",
       "\n",
       "    .dataframe thead th {\n",
       "        text-align: right;\n",
       "    }\n",
       "</style>\n",
       "<table border=\"1\" class=\"dataframe\">\n",
       "  <thead>\n",
       "    <tr style=\"text-align: right;\">\n",
       "      <th></th>\n",
       "      <th>min</th>\n",
       "      <th>max</th>\n",
       "      <th>mean</th>\n",
       "    </tr>\n",
       "    <tr>\n",
       "      <th>Product</th>\n",
       "      <th></th>\n",
       "      <th></th>\n",
       "      <th></th>\n",
       "    </tr>\n",
       "  </thead>\n",
       "  <tbody>\n",
       "    <tr>\n",
       "      <th>Biscuits</th>\n",
       "      <td>6</td>\n",
       "      <td>6</td>\n",
       "      <td>6.0</td>\n",
       "    </tr>\n",
       "    <tr>\n",
       "      <th>Bread</th>\n",
       "      <td>5</td>\n",
       "      <td>5</td>\n",
       "      <td>5.0</td>\n",
       "    </tr>\n",
       "    <tr>\n",
       "      <th>Milk</th>\n",
       "      <td>3</td>\n",
       "      <td>3</td>\n",
       "      <td>3.0</td>\n",
       "    </tr>\n",
       "    <tr>\n",
       "      <th>Oil</th>\n",
       "      <td>4</td>\n",
       "      <td>4</td>\n",
       "      <td>4.0</td>\n",
       "    </tr>\n",
       "    <tr>\n",
       "      <th>Rice</th>\n",
       "      <td>1</td>\n",
       "      <td>1</td>\n",
       "      <td>1.0</td>\n",
       "    </tr>\n",
       "    <tr>\n",
       "      <th>Shampoo</th>\n",
       "      <td>2</td>\n",
       "      <td>2</td>\n",
       "      <td>2.0</td>\n",
       "    </tr>\n",
       "    <tr>\n",
       "      <th>Soap</th>\n",
       "      <td>5</td>\n",
       "      <td>5</td>\n",
       "      <td>5.0</td>\n",
       "    </tr>\n",
       "    <tr>\n",
       "      <th>Sugar</th>\n",
       "      <td>2</td>\n",
       "      <td>2</td>\n",
       "      <td>2.0</td>\n",
       "    </tr>\n",
       "    <tr>\n",
       "      <th>Tea</th>\n",
       "      <td>2</td>\n",
       "      <td>2</td>\n",
       "      <td>2.0</td>\n",
       "    </tr>\n",
       "    <tr>\n",
       "      <th>Toothpaste</th>\n",
       "      <td>3</td>\n",
       "      <td>3</td>\n",
       "      <td>3.0</td>\n",
       "    </tr>\n",
       "  </tbody>\n",
       "</table>\n",
       "</div>"
      ],
      "text/plain": [
       "            min  max  mean\n",
       "Product                   \n",
       "Biscuits      6    6   6.0\n",
       "Bread         5    5   5.0\n",
       "Milk          3    3   3.0\n",
       "Oil           4    4   4.0\n",
       "Rice          1    1   1.0\n",
       "Shampoo       2    2   2.0\n",
       "Soap          5    5   5.0\n",
       "Sugar         2    2   2.0\n",
       "Tea           2    2   2.0\n",
       "Toothpaste    3    3   3.0"
      ]
     },
     "execution_count": 9,
     "metadata": {},
     "output_type": "execute_result"
    }
   ],
   "source": [
    "grouped['Quantity'].agg(['min','max','mean'])"
   ]
  },
  {
   "cell_type": "markdown",
   "id": "4b0864f7",
   "metadata": {},
   "source": [
    "## Applying functions on grouped data"
   ]
  },
  {
   "cell_type": "code",
   "execution_count": 10,
   "id": "bad70d64",
   "metadata": {},
   "outputs": [
    {
     "data": {
      "text/plain": [
       "Product\n",
       "Biscuits      0\n",
       "Bread         0\n",
       "Milk          0\n",
       "Oil           0\n",
       "Rice          0\n",
       "Shampoo       0\n",
       "Soap          0\n",
       "Sugar         0\n",
       "Tea           0\n",
       "Toothpaste    0\n",
       "Name: Quantity, dtype: int64"
      ]
     },
     "execution_count": 10,
     "metadata": {},
     "output_type": "execute_result"
    }
   ],
   "source": [
    "def range_func(x):\n",
    "    return x.max() - x.min()\n",
    "\n",
    "grouped['Quantity'].apply(range_func)"
   ]
  },
  {
   "cell_type": "markdown",
   "id": "6ce9f315",
   "metadata": {},
   "source": [
    "##output of the above apply method is 0 for all products becaues each product appears once in the data set so x.max==x.min,hence 0"
   ]
  },
  {
   "cell_type": "code",
   "execution_count": 11,
   "id": "387057f1",
   "metadata": {},
   "outputs": [
    {
     "data": {
      "text/html": [
       "<div>\n",
       "<style scoped>\n",
       "    .dataframe tbody tr th:only-of-type {\n",
       "        vertical-align: middle;\n",
       "    }\n",
       "\n",
       "    .dataframe tbody tr th {\n",
       "        vertical-align: top;\n",
       "    }\n",
       "\n",
       "    .dataframe thead tr th {\n",
       "        text-align: left;\n",
       "    }\n",
       "\n",
       "    .dataframe thead tr:last-of-type th {\n",
       "        text-align: right;\n",
       "    }\n",
       "</style>\n",
       "<table border=\"1\" class=\"dataframe\">\n",
       "  <thead>\n",
       "    <tr>\n",
       "      <th></th>\n",
       "      <th colspan=\"2\" halign=\"left\">Quantity</th>\n",
       "      <th>Customer</th>\n",
       "    </tr>\n",
       "    <tr>\n",
       "      <th></th>\n",
       "      <th>min</th>\n",
       "      <th>max</th>\n",
       "      <th>count</th>\n",
       "    </tr>\n",
       "    <tr>\n",
       "      <th>Product</th>\n",
       "      <th></th>\n",
       "      <th></th>\n",
       "      <th></th>\n",
       "    </tr>\n",
       "  </thead>\n",
       "  <tbody>\n",
       "    <tr>\n",
       "      <th>Biscuits</th>\n",
       "      <td>6</td>\n",
       "      <td>6</td>\n",
       "      <td>1</td>\n",
       "    </tr>\n",
       "    <tr>\n",
       "      <th>Bread</th>\n",
       "      <td>5</td>\n",
       "      <td>5</td>\n",
       "      <td>1</td>\n",
       "    </tr>\n",
       "    <tr>\n",
       "      <th>Milk</th>\n",
       "      <td>3</td>\n",
       "      <td>3</td>\n",
       "      <td>1</td>\n",
       "    </tr>\n",
       "    <tr>\n",
       "      <th>Oil</th>\n",
       "      <td>4</td>\n",
       "      <td>4</td>\n",
       "      <td>1</td>\n",
       "    </tr>\n",
       "    <tr>\n",
       "      <th>Rice</th>\n",
       "      <td>1</td>\n",
       "      <td>1</td>\n",
       "      <td>1</td>\n",
       "    </tr>\n",
       "    <tr>\n",
       "      <th>Shampoo</th>\n",
       "      <td>2</td>\n",
       "      <td>2</td>\n",
       "      <td>1</td>\n",
       "    </tr>\n",
       "    <tr>\n",
       "      <th>Soap</th>\n",
       "      <td>5</td>\n",
       "      <td>5</td>\n",
       "      <td>1</td>\n",
       "    </tr>\n",
       "    <tr>\n",
       "      <th>Sugar</th>\n",
       "      <td>2</td>\n",
       "      <td>2</td>\n",
       "      <td>1</td>\n",
       "    </tr>\n",
       "    <tr>\n",
       "      <th>Tea</th>\n",
       "      <td>2</td>\n",
       "      <td>2</td>\n",
       "      <td>1</td>\n",
       "    </tr>\n",
       "    <tr>\n",
       "      <th>Toothpaste</th>\n",
       "      <td>3</td>\n",
       "      <td>3</td>\n",
       "      <td>1</td>\n",
       "    </tr>\n",
       "  </tbody>\n",
       "</table>\n",
       "</div>"
      ],
      "text/plain": [
       "           Quantity     Customer\n",
       "                min max    count\n",
       "Product                         \n",
       "Biscuits          6   6        1\n",
       "Bread             5   5        1\n",
       "Milk              3   3        1\n",
       "Oil               4   4        1\n",
       "Rice              1   1        1\n",
       "Shampoo           2   2        1\n",
       "Soap              5   5        1\n",
       "Sugar             2   2        1\n",
       "Tea               2   2        1\n",
       "Toothpaste        3   3        1"
      ]
     },
     "execution_count": 11,
     "metadata": {},
     "output_type": "execute_result"
    }
   ],
   "source": [
    "grouped.agg({\n",
    "    'Quantity':['min','max'],\n",
    "    'Customer':'count'\n",
    "})"
   ]
  }
 ],
 "metadata": {
  "kernelspec": {
   "display_name": "Python 3",
   "language": "python",
   "name": "python3"
  },
  "language_info": {
   "codemirror_mode": {
    "name": "ipython",
    "version": 3
   },
   "file_extension": ".py",
   "mimetype": "text/x-python",
   "name": "python",
   "nbconvert_exporter": "python",
   "pygments_lexer": "ipython3",
   "version": "3.13.7"
  }
 },
 "nbformat": 4,
 "nbformat_minor": 5
}

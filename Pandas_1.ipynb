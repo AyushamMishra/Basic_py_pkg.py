{
 "cells": [
  {
   "cell_type": "markdown",
   "id": "e2e56290",
   "metadata": {},
   "source": [
    "## Introductionn to Pandas "
   ]
  },
  {
   "cell_type": "code",
   "execution_count": 1,
   "id": "c9940a08",
   "metadata": {},
   "outputs": [],
   "source": [
    "import pandas as pd"
   ]
  },
  {
   "cell_type": "markdown",
   "id": "6e8e7516",
   "metadata": {},
   "source": [
    "## Creating a series"
   ]
  },
  {
   "cell_type": "code",
   "execution_count": 5,
   "id": "f20e1d60",
   "metadata": {},
   "outputs": [
    {
     "name": "stdout",
     "output_type": "stream",
     "text": [
      "0    20\n",
      "1    34\n",
      "2    11\n",
      "3    24\n",
      "4    15\n",
      "5    89\n",
      "dtype: int64\n"
     ]
    }
   ],
   "source": [
    "tempratures=[20,34,11,24,15,89]\n",
    "temp_series=pd.Series(tempratures)\n",
    "print(temp_series)"
   ]
  },
  {
   "cell_type": "markdown",
   "id": "3b7ce763",
   "metadata": {},
   "source": [
    "## Custom Indexing"
   ]
  },
  {
   "cell_type": "code",
   "execution_count": 7,
   "id": "91f1b784",
   "metadata": {},
   "outputs": [
    {
     "data": {
      "text/plain": [
       "Monday       20\n",
       "Tuesday      34\n",
       "Wednesday    11\n",
       "Thursday     24\n",
       "Friday       15\n",
       "Saturday     89\n",
       "dtype: int64"
      ]
     },
     "execution_count": 7,
     "metadata": {},
     "output_type": "execute_result"
    }
   ],
   "source": [
    "days=[\"Monday\",\"Tuesday\",\"Wednesday\",\"Thursday\",\"Friday\",\"Saturday\"]\n",
    "temp_ondays=pd.Series(tempratures,index=days)\n",
    "temp_ondays"
   ]
  },
  {
   "cell_type": "markdown",
   "id": "bbfeeff3",
   "metadata": {},
   "source": [
    "## Series from Dictionary"
   ]
  },
  {
   "cell_type": "code",
   "execution_count": 10,
   "id": "b7264203",
   "metadata": {},
   "outputs": [
    {
     "data": {
      "text/plain": [
       "Apple      20\n",
       "Orange     11\n",
       "Peach      33\n",
       "Bannana    10\n",
       "dtype: int64"
      ]
     },
     "execution_count": 10,
     "metadata": {},
     "output_type": "execute_result"
    }
   ],
   "source": [
    "fruits={'Apple':20,'Orange':11,'Peach':33,'Bannana':10}\n",
    "fruit_series=pd.Series(fruits)\n",
    "fruit_series"
   ]
  },
  {
   "cell_type": "markdown",
   "id": "ac794c01",
   "metadata": {},
   "source": [
    "## Series from numpy array"
   ]
  },
  {
   "cell_type": "code",
   "execution_count": 12,
   "id": "02dce63a",
   "metadata": {},
   "outputs": [
    {
     "data": {
      "text/plain": [
       "0    0.190008\n",
       "1    0.450056\n",
       "2    0.558878\n",
       "3    0.464804\n",
       "4    0.024951\n",
       "5    0.487684\n",
       "6    0.425798\n",
       "7    0.683001\n",
       "dtype: float64"
      ]
     },
     "execution_count": 12,
     "metadata": {},
     "output_type": "execute_result"
    }
   ],
   "source": [
    "import numpy as np\n",
    "rand_num=np.random.rand(8)\n",
    "rand_series=pd.Series(rand_num)\n",
    "rand_series"
   ]
  },
  {
   "cell_type": "markdown",
   "id": "f9b95902",
   "metadata": {},
   "source": [
    "## Creating a Dataframe"
   ]
  },
  {
   "cell_type": "code",
   "execution_count": 14,
   "id": "40ee7cfd",
   "metadata": {},
   "outputs": [
    {
     "data": {
      "text/html": [
       "<div>\n",
       "<style scoped>\n",
       "    .dataframe tbody tr th:only-of-type {\n",
       "        vertical-align: middle;\n",
       "    }\n",
       "\n",
       "    .dataframe tbody tr th {\n",
       "        vertical-align: top;\n",
       "    }\n",
       "\n",
       "    .dataframe thead th {\n",
       "        text-align: right;\n",
       "    }\n",
       "</style>\n",
       "<table border=\"1\" class=\"dataframe\">\n",
       "  <thead>\n",
       "    <tr style=\"text-align: right;\">\n",
       "      <th></th>\n",
       "      <th>Names</th>\n",
       "      <th>age</th>\n",
       "      <th>country</th>\n",
       "    </tr>\n",
       "  </thead>\n",
       "  <tbody>\n",
       "    <tr>\n",
       "      <th>0</th>\n",
       "      <td>ayush</td>\n",
       "      <td>20</td>\n",
       "      <td>ind</td>\n",
       "    </tr>\n",
       "    <tr>\n",
       "      <th>1</th>\n",
       "      <td>arnav</td>\n",
       "      <td>33</td>\n",
       "      <td>ind</td>\n",
       "    </tr>\n",
       "    <tr>\n",
       "      <th>2</th>\n",
       "      <td>shukla</td>\n",
       "      <td>42</td>\n",
       "      <td>usa</td>\n",
       "    </tr>\n",
       "    <tr>\n",
       "      <th>3</th>\n",
       "      <td>ponting</td>\n",
       "      <td>53</td>\n",
       "      <td>china</td>\n",
       "    </tr>\n",
       "  </tbody>\n",
       "</table>\n",
       "</div>"
      ],
      "text/plain": [
       "     Names  age country\n",
       "0    ayush   20     ind\n",
       "1    arnav   33     ind\n",
       "2   shukla   42     usa\n",
       "3  ponting   53   china"
      ]
     },
     "execution_count": 14,
     "metadata": {},
     "output_type": "execute_result"
    }
   ],
   "source": [
    "data={\n",
    "    'Names':[\"ayush\",\"arnav\",\"shukla\",\"ponting\"],\n",
    "    'age':[20,33,42,53],\n",
    "    'country':[\"ind\",\"ind\",\"usa\",\"china\"]\n",
    "}\n",
    "df=pd.DataFrame(data)\n",
    "df"
   ]
  },
  {
   "cell_type": "code",
   "execution_count": 16,
   "id": "d3145bd8",
   "metadata": {},
   "outputs": [
    {
     "data": {
      "text/html": [
       "<div>\n",
       "<style scoped>\n",
       "    .dataframe tbody tr th:only-of-type {\n",
       "        vertical-align: middle;\n",
       "    }\n",
       "\n",
       "    .dataframe tbody tr th {\n",
       "        vertical-align: top;\n",
       "    }\n",
       "\n",
       "    .dataframe thead th {\n",
       "        text-align: right;\n",
       "    }\n",
       "</style>\n",
       "<table border=\"1\" class=\"dataframe\">\n",
       "  <thead>\n",
       "    <tr style=\"text-align: right;\">\n",
       "      <th></th>\n",
       "      <th>weidth</th>\n",
       "      <th>height</th>\n",
       "      <th>length</th>\n",
       "      <th>Girth</th>\n",
       "    </tr>\n",
       "  </thead>\n",
       "  <tbody>\n",
       "    <tr>\n",
       "      <th>0</th>\n",
       "      <td>1</td>\n",
       "      <td>2</td>\n",
       "      <td>4</td>\n",
       "      <td>5</td>\n",
       "    </tr>\n",
       "    <tr>\n",
       "      <th>1</th>\n",
       "      <td>3</td>\n",
       "      <td>22</td>\n",
       "      <td>33</td>\n",
       "      <td>11</td>\n",
       "    </tr>\n",
       "    <tr>\n",
       "      <th>2</th>\n",
       "      <td>21</td>\n",
       "      <td>31</td>\n",
       "      <td>44</td>\n",
       "      <td>3</td>\n",
       "    </tr>\n",
       "  </tbody>\n",
       "</table>\n",
       "</div>"
      ],
      "text/plain": [
       "   weidth  height  length  Girth\n",
       "0       1       2       4      5\n",
       "1       3      22      33     11\n",
       "2      21      31      44      3"
      ]
     },
     "execution_count": 16,
     "metadata": {},
     "output_type": "execute_result"
    }
   ],
   "source": [
    "array_data=np.array([[1,2,4,5],[3,22,33,11],[21,31,44,3]])\n",
    "colums=np.array([\"weidth\",\"height\",\"length\",\"Girth\"])\n",
    "df=pd.DataFrame(array_data,columns=colums)\n",
    "df"
   ]
  },
  {
   "cell_type": "markdown",
   "id": "f18b45bb",
   "metadata": {},
   "source": [
    "## Combinig series into Data Frame"
   ]
  },
  {
   "cell_type": "code",
   "execution_count": 24,
   "id": "051e8034",
   "metadata": {},
   "outputs": [
    {
     "data": {
      "text/html": [
       "<div>\n",
       "<style scoped>\n",
       "    .dataframe tbody tr th:only-of-type {\n",
       "        vertical-align: middle;\n",
       "    }\n",
       "\n",
       "    .dataframe tbody tr th {\n",
       "        vertical-align: top;\n",
       "    }\n",
       "\n",
       "    .dataframe thead th {\n",
       "        text-align: right;\n",
       "    }\n",
       "</style>\n",
       "<table border=\"1\" class=\"dataframe\">\n",
       "  <thead>\n",
       "    <tr style=\"text-align: right;\">\n",
       "      <th></th>\n",
       "      <th>Apple</th>\n",
       "      <th>orange</th>\n",
       "    </tr>\n",
       "  </thead>\n",
       "  <tbody>\n",
       "    <tr>\n",
       "      <th>2021</th>\n",
       "      <td>120</td>\n",
       "      <td>33</td>\n",
       "    </tr>\n",
       "    <tr>\n",
       "      <th>2022</th>\n",
       "      <td>230</td>\n",
       "      <td>38</td>\n",
       "    </tr>\n",
       "    <tr>\n",
       "      <th>2023</th>\n",
       "      <td>150</td>\n",
       "      <td>56</td>\n",
       "    </tr>\n",
       "  </tbody>\n",
       "</table>\n",
       "</div>"
      ],
      "text/plain": [
       "      Apple  orange\n",
       "2021    120      33\n",
       "2022    230      38\n",
       "2023    150      56"
      ]
     },
     "execution_count": 24,
     "metadata": {},
     "output_type": "execute_result"
    }
   ],
   "source": [
    "apple_stock=pd.Series([120,230,150],index=['2021','2022','2023'])\n",
    "orange_stock=pd.Series([33,38,56],index=['2021','2022','2023'])\n",
    "df_2=pd.DataFrame({'Apple':apple_stock,'orange':orange_stock})\n",
    "df_2"
   ]
  },
  {
   "cell_type": "code",
   "execution_count": 25,
   "id": "e2568e5e",
   "metadata": {},
   "outputs": [
    {
     "data": {
      "text/html": [
       "<div>\n",
       "<style scoped>\n",
       "    .dataframe tbody tr th:only-of-type {\n",
       "        vertical-align: middle;\n",
       "    }\n",
       "\n",
       "    .dataframe tbody tr th {\n",
       "        vertical-align: top;\n",
       "    }\n",
       "\n",
       "    .dataframe thead th {\n",
       "        text-align: right;\n",
       "    }\n",
       "</style>\n",
       "<table border=\"1\" class=\"dataframe\">\n",
       "  <thead>\n",
       "    <tr style=\"text-align: right;\">\n",
       "      <th></th>\n",
       "      <th>Apple</th>\n",
       "      <th>orange</th>\n",
       "      <th>lost yield</th>\n",
       "    </tr>\n",
       "  </thead>\n",
       "  <tbody>\n",
       "    <tr>\n",
       "      <th>2021</th>\n",
       "      <td>120</td>\n",
       "      <td>33</td>\n",
       "      <td>2</td>\n",
       "    </tr>\n",
       "    <tr>\n",
       "      <th>2022</th>\n",
       "      <td>230</td>\n",
       "      <td>38</td>\n",
       "      <td>4</td>\n",
       "    </tr>\n",
       "    <tr>\n",
       "      <th>2023</th>\n",
       "      <td>150</td>\n",
       "      <td>56</td>\n",
       "      <td>5</td>\n",
       "    </tr>\n",
       "  </tbody>\n",
       "</table>\n",
       "</div>"
      ],
      "text/plain": [
       "      Apple  orange  lost yield\n",
       "2021    120      33           2\n",
       "2022    230      38           4\n",
       "2023    150      56           5"
      ]
     },
     "execution_count": 25,
     "metadata": {},
     "output_type": "execute_result"
    }
   ],
   "source": [
    "df_2['lost yield']=[2,4,5]\n",
    "df_2"
   ]
  },
  {
   "cell_type": "code",
   "execution_count": null,
   "id": "67f2f2bd",
   "metadata": {},
   "outputs": [],
   "source": [
    "df_2=df_2.drop('lost yield',axis=1)"
   ]
  }
 ],
 "metadata": {
  "kernelspec": {
   "display_name": "Python 3",
   "language": "python",
   "name": "python3"
  },
  "language_info": {
   "codemirror_mode": {
    "name": "ipython",
    "version": 3
   },
   "file_extension": ".py",
   "mimetype": "text/x-python",
   "name": "python",
   "nbconvert_exporter": "python",
   "pygments_lexer": "ipython3",
   "version": "3.13.7"
  }
 },
 "nbformat": 4,
 "nbformat_minor": 5
}

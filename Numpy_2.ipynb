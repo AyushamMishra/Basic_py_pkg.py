{
 "cells": [
  {
   "cell_type": "code",
   "execution_count": 1,
   "id": "a61a06f2",
   "metadata": {},
   "outputs": [],
   "source": [
    "import numpy as np"
   ]
  },
  {
   "cell_type": "code",
   "execution_count": 5,
   "id": "a994995a",
   "metadata": {},
   "outputs": [
    {
     "name": "stdout",
     "output_type": "stream",
     "text": [
      "Original array: [0 1 2 3 4 5 6 7 8 9]\n",
      "array slicing: [0 2 4 6 8]\n"
     ]
    }
   ],
   "source": [
    "arr=np.array([i for i in range(0,10)])\n",
    "print(\"Original array:\",arr)\n",
    "print(\"array slicing:\",arr[0:9:2])\n"
   ]
  },
  {
   "cell_type": "code",
   "execution_count": 6,
   "id": "60acfa97",
   "metadata": {},
   "outputs": [
    {
     "name": "stdout",
     "output_type": "stream",
     "text": [
      "SORTED ARRAY: [0 1 2 3 4 5 8 9]\n"
     ]
    }
   ],
   "source": [
    "unsorted=np.array([5,2,8,1,9,3,4,0])\n",
    "print(\"SORTED ARRAY:\",np.sort(unsorted))"
   ]
  },
  {
   "cell_type": "markdown",
   "id": "e9a4d9e2",
   "metadata": {},
   "source": [
    "### Fnacy indexing vs np.where"
   ]
  },
  {
   "cell_type": "code",
   "execution_count": 10,
   "id": "8f73b7a8",
   "metadata": {},
   "outputs": [
    {
     "name": "stdout",
     "output_type": "stream",
     "text": [
      "[2 4 6]\n",
      "(array([3, 4, 5, 6, 7, 8, 9]),)\n",
      "Np.where [ 4  5  6  7  8  9 10]\n",
      "['false' 'false' 'false' 'false' 'false' 'false' 'true' 'true' 'true'\n",
      " 'true']\n"
     ]
    }
   ],
   "source": [
    "numbers=np.array([1,2,3,4,5,6,7,8,9,10])\n",
    "indices=[1,3,5]\n",
    "print(numbers[indices])\n",
    "where_result=np.where(numbers>3)\n",
    "print(where_result)\n",
    "print(\"Np.where\",numbers[where_result])\n",
    "conditional=np.where(numbers>6,\"true\",\"false\")\n",
    "print(conditional)"
   ]
  },
  {
   "cell_type": "markdown",
   "id": "998a0c9b",
   "metadata": {},
   "source": [
    "### Adding and Removing Data"
   ]
  },
  {
   "cell_type": "code",
   "execution_count": 13,
   "id": "b99486d2",
   "metadata": {},
   "outputs": [
    {
     "name": "stdout",
     "output_type": "stream",
     "text": [
      "[ 6  8 10]\n"
     ]
    }
   ],
   "source": [
    "arr1=np.array([1,2,3])\n",
    "arr2=np.array([5,6,7])\n",
    "combined=arr1+arr2\n",
    "print(combined)"
   ]
  },
  {
   "cell_type": "code",
   "execution_count": 16,
   "id": "f0ba9b78",
   "metadata": {},
   "outputs": [
    {
     "name": "stdout",
     "output_type": "stream",
     "text": [
      "Compatibility check a and b: True\n",
      "Compatibility check b abd c False\n"
     ]
    }
   ],
   "source": [
    "a=np.array([1,2,3])\n",
    "b=np.array([4,5,6])\n",
    "c=np.array([7,8,9,10])\n",
    "print(\"Compatibility check a and b:\",a.shape==b.shape)\n",
    "print(\"Compatibility check b abd c\", b.shape==c.shape)"
   ]
  },
  {
   "cell_type": "markdown",
   "id": "b2e84b01",
   "metadata": {},
   "source": [
    "### Adding new row and column"
   ]
  },
  {
   "cell_type": "code",
   "execution_count": 20,
   "id": "966da8f0",
   "metadata": {},
   "outputs": [
    {
     "name": "stdout",
     "output_type": "stream",
     "text": [
      "original [[1 2]\n",
      " [3 4]]\n",
      "With new row [[1 2]\n",
      " [3 4]\n",
      " [5 6]]\n",
      "With new col [[1 2 8]\n",
      " [3 4 9]]\n"
     ]
    }
   ],
   "source": [
    "original=np.array([[1,2],[3,4]])\n",
    "new_row=np.array([[5,6]])\n",
    "add_row=np.vstack((original,new_row))\n",
    "new_col=([[8],[9]])\n",
    "add_col=np.hstack((original,new_col))\n",
    "print(\"original\",original)\n",
    "print(\"With new row\",add_row)\n",
    "print(\"With new col\",add_col)"
   ]
  },
  {
   "cell_type": "code",
   "execution_count": null,
   "id": "b2845f39",
   "metadata": {},
   "outputs": [],
   "source": []
  }
 ],
 "metadata": {
  "kernelspec": {
   "display_name": "Python 3",
   "language": "python",
   "name": "python3"
  },
  "language_info": {
   "codemirror_mode": {
    "name": "ipython",
    "version": 3
   },
   "file_extension": ".py",
   "mimetype": "text/x-python",
   "name": "python",
   "nbconvert_exporter": "python",
   "pygments_lexer": "ipython3",
   "version": "3.13.7"
  }
 },
 "nbformat": 4,
 "nbformat_minor": 5
}

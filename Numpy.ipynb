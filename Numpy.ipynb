{
 "cells": [
  {
   "cell_type": "markdown",
   "id": "7b701dca",
   "metadata": {},
   "source": [
    "## Numpy array and basics "
   ]
  },
  {
   "cell_type": "code",
   "execution_count": 2,
   "id": "c6cf7ac7",
   "metadata": {},
   "outputs": [],
   "source": [
    "import numpy as np"
   ]
  },
  {
   "cell_type": "markdown",
   "id": "9b0405e4",
   "metadata": {},
   "source": [
    "## Creating a new array"
   ]
  },
  {
   "cell_type": "code",
   "execution_count": 3,
   "id": "d703b641",
   "metadata": {},
   "outputs": [
    {
     "name": "stdout",
     "output_type": "stream",
     "text": [
      "[1 2 3 4 5]\n",
      "[[1 2 3]\n",
      " [3 4 5]]\n"
     ]
    }
   ],
   "source": [
    "array_1d=np.array([1,2,3,4,5])\n",
    "array_2d=np.array([[1,2,3],[3,4,5]])\n",
    "print(array_1d)\n",
    "print(array_2d)"
   ]
  },
  {
   "cell_type": "code",
   "execution_count": 7,
   "id": "9ef25b31",
   "metadata": {},
   "outputs": [
    {
     "name": "stdout",
     "output_type": "stream",
     "text": [
      "list operation time is: 0.011274576187133789\n",
      "numpt array operation time: 0.0014379024505615234\n"
     ]
    }
   ],
   "source": [
    "import time\n",
    "start=time.time()\n",
    "py_list=[i*2 for i in range(100000)]\n",
    "print(\"list operation time is:\",time.time()-start)\n",
    "\n",
    "start=time.time()\n",
    "np_aray=np.arange(100000)*4\n",
    "print(\"numpt array operation time:\",time.time()-start)"
   ]
  },
  {
   "cell_type": "markdown",
   "id": "010d0472",
   "metadata": {},
   "source": [
    "## Creating Arrays from scratch"
   ]
  },
  {
   "cell_type": "code",
   "execution_count": 5,
   "id": "b5f07c9f",
   "metadata": {},
   "outputs": [
    {
     "name": "stdout",
     "output_type": "stream",
     "text": [
      "thee zero matrix is : [[0. 0. 0. 0.]\n",
      " [0. 0. 0. 0.]\n",
      " [0. 0. 0. 0.]]\n",
      "the ines matrix is: [[1. 1.]\n",
      " [1. 1.]\n",
      " [1. 1.]]\n",
      "The full matrix is: [[5 5 5 5]\n",
      " [5 5 5 5]\n",
      " [5 5 5 5]]\n"
     ]
    }
   ],
   "source": [
    "import numpy as np\n",
    "zeros=np.zeros((3,4))\n",
    "print(\"thee zero matrix is :\",zeros)\n",
    "ones=np.ones((3,2))\n",
    "print(\"the ines matrix is:\",ones)\n",
    "full=np.full((3,4),5)\n",
    "print(\"The full matrix is:\",full)\n",
    "\n"
   ]
  },
  {
   "cell_type": "code",
   "execution_count": 6,
   "id": "35a6c705",
   "metadata": {},
   "outputs": [
    {
     "name": "stdout",
     "output_type": "stream",
     "text": [
      "[[[[1 2]\n",
      "   [2 3]]\n",
      "\n",
      "  [[4 5]\n",
      "   [6 7]]]]\n"
     ]
    }
   ],
   "source": [
    "import numpy as np\n",
    "tensor=np.array([[[[1,2],[2,3]],[[4,5],[6,7]]]])\n",
    "print(tensor)"
   ]
  },
  {
   "cell_type": "markdown",
   "id": "159da8be",
   "metadata": {},
   "source": [
    "## Array Properties "
   ]
  },
  {
   "cell_type": "code",
   "execution_count": 10,
   "id": "7e7d0b3f",
   "metadata": {},
   "outputs": [
    {
     "name": "stdout",
     "output_type": "stream",
     "text": [
      "Dimension 1\n",
      "shape (5,)\n",
      "size 5\n",
      "Data Type int64\n"
     ]
    }
   ],
   "source": [
    "import numpy as np\n",
    "arr=np.array([1,2,34,5,6])\n",
    "print(\"Dimension\",arr.ndim)\n",
    "print(\"shape\",arr.shape)\n",
    "print(\"size\",arr.size)\n",
    "print(\"Data Type\",arr.dtype)"
   ]
  },
  {
   "cell_type": "markdown",
   "id": "3d7739a4",
   "metadata": {},
   "source": [
    "## Array Reshaping"
   ]
  },
  {
   "cell_type": "code",
   "execution_count": 1,
   "id": "5d061f98",
   "metadata": {},
   "outputs": [
    {
     "name": "stdout",
     "output_type": "stream",
     "text": [
      "reshaped [[ 1  2  3  4]\n",
      " [ 9  5  6  7]\n",
      " [ 8 20 23 12]]\n",
      "flattened [ 1  2  3  4  9  5  6  7  8 20 23 12]\n",
      "raveled [ 1  2  3  4  9  5  6  7  8 20 23 12]\n",
      "Transpose of a matrix: [[ 1  9  8]\n",
      " [ 2  5 20]\n",
      " [ 3  6 23]\n",
      " [ 4  7 12]]\n"
     ]
    }
   ],
   "source": [
    "import numpy as np\n",
    "arr=np.array([1,2,3,4,9,5,6,7,8,20,23,12])\n",
    "reshaped=arr.reshape((3,4))\n",
    "print(\"reshaped\",reshaped)\n",
    "flattened=arr.flatten()\n",
    "print(\"flattened\",flattened)\n",
    "raveled=reshaped.ravel()\n",
    "print(\"raveled\",raveled)\n",
    "transpose=reshaped.T\n",
    "print(\"Transpose of a matrix:\",transpose)\n"
   ]
  }
 ],
 "metadata": {
  "kernelspec": {
   "display_name": "Python 3",
   "language": "python",
   "name": "python3"
  },
  "language_info": {
   "codemirror_mode": {
    "name": "ipython",
    "version": 3
   },
   "file_extension": ".py",
   "mimetype": "text/x-python",
   "name": "python",
   "nbconvert_exporter": "python",
   "pygments_lexer": "ipython3",
   "version": "3.13.7"
  }
 },
 "nbformat": 4,
 "nbformat_minor": 5
}
